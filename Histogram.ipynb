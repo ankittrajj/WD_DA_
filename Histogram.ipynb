{
 "cells": [
  {
   "cell_type": "code",
   "execution_count": 3,
   "id": "26c7d14e",
   "metadata": {},
   "outputs": [],
   "source": [
    "import matplotlib.pyplot as plt\n",
    "import random\n",
    "import numpy as np"
   ]
  },
  {
   "cell_type": "code",
   "execution_count": 20,
   "id": "0e84b753",
   "metadata": {},
   "outputs": [],
   "source": [
    "age_of_students = np.random.randint(3,60, (20))\n",
    "student_python = np.random.randint(3,60,(20))"
   ]
  },
  {
   "cell_type": "code",
   "execution_count": 21,
   "id": "45cefcc9",
   "metadata": {},
   "outputs": [
    {
     "data": {
      "text/plain": [
       "array([41, 53, 49, 21, 34, 13, 18, 58, 45,  5,  9, 30, 29, 40, 44, 49, 12,\n",
       "       32, 44, 57])"
      ]
     },
     "execution_count": 21,
     "metadata": {},
     "output_type": "execute_result"
    }
   ],
   "source": [
    "age_of_students"
   ]
  },
  {
   "cell_type": "code",
   "execution_count": 18,
   "id": "79ccc744",
   "metadata": {},
   "outputs": [
    {
     "data": {
      "text/plain": [
       "array([43, 18, 12, 31, 29, 34, 20, 44, 23, 49,  5, 19, 32, 26, 14, 29, 34,\n",
       "       52, 21, 51])"
      ]
     },
     "execution_count": 18,
     "metadata": {},
     "output_type": "execute_result"
    }
   ],
   "source": [
    "student_python"
   ]
  },
  {
   "cell_type": "code",
   "execution_count": 19,
   "id": "32d4f3de",
   "metadata": {},
   "outputs": [
    {
     "data": {
      "text/plain": [
       "array([43, 18, 12, 31, 29, 34, 20, 44, 23, 49,  5, 19, 32, 26, 14, 29, 34,\n",
       "       52, 21, 51])"
      ]
     },
     "execution_count": 19,
     "metadata": {},
     "output_type": "execute_result"
    }
   ],
   "source": [
    "student_python"
   ]
  },
  {
   "cell_type": "code",
   "execution_count": 25,
   "id": "286264e1",
   "metadata": {},
   "outputs": [
    {
     "data": {
      "text/plain": [
       "(array([2., 2., 1., 1., 2., 2., 2., 3., 2., 3.]),\n",
       " array([ 5. , 10.3, 15.6, 20.9, 26.2, 31.5, 36.8, 42.1, 47.4, 52.7, 58. ]),\n",
       " <BarContainer object of 10 artists>)"
      ]
     },
     "execution_count": 25,
     "metadata": {},
     "output_type": "execute_result"
    },
    {
     "data": {
      "image/png": "[encoded data removed]",
      "text/plain": [
       "<Figure size 432x288 with 1 Axes>"
      ]
     },
     "metadata": {
      "needs_background": "light"
     },
     "output_type": "display_data"
    }
   ],
   "source": [
    "plt.hist(age_of_students)"
   ]
  },
  {
   "cell_type": "code",
   "execution_count": null,
   "id": "2f7071db",
   "metadata": {},
   "outputs": [],
   "source": []
  }
 ],
 "metadata": {
  "kernelspec": {
   "display_name": "Python 3 (ipykernel)",
   "language": "python",
   "name": "python3"
  },
  "language_info": {
   "codemirror_mode": {
    "name": "ipython",
    "version": 3
   },
   "file_extension": ".py",
   "mimetype": "text/x-python",
   "name": "python",
   "nbconvert_exporter": "python",
   "pygments_lexer": "ipython3",
   "version": "3.9.7"
  }
 },
 "nbformat": 4,
 "nbformat_minor": 5
}
