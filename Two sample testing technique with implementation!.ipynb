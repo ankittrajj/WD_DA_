{
 "cells": [
  {
   "cell_type": "code",
   "execution_count": 1,
   "id": "22e6a2a3",
   "metadata": {},
   "outputs": [],
   "source": [
    "#In 2001,an experiment regarding the realation of sex\n",
    "# and sense\n",
    "# of direction in an unfamiliar environment was conducted in\n",
    "# wherein the sense of directiom of 30 male & 30 female \n",
    "# students\n",
    "# at the university of boston was put into test.\n",
    "# The student were given orientation test(pointing to south)\n",
    "# after being taken to an unfamiliar wooded park.The student \n",
    "# pointed by moving a ponter attached to a 360 degree \n",
    "# protactor.\n",
    "\n",
    "# Is  there any evedence that,an avg,male have better \n",
    "# sense of \n",
    "# direction than females at 5% significance level?"
   ]
  },
  {
   "cell_type": "code",
   "execution_count": 2,
   "id": "936a8040",
   "metadata": {},
   "outputs": [],
   "source": [
    "#step 1:\n",
    "# create the data\n",
    "import numpy as np"
   ]
  },
  {
   "cell_type": "code",
   "execution_count": 3,
   "id": "5aff34b1",
   "metadata": {},
   "outputs": [],
   "source": [
    "import scipy.stats as stats"
   ]
  },
  {
   "cell_type": "code",
   "execution_count": 4,
   "id": "485f95aa",
   "metadata": {},
   "outputs": [],
   "source": [
    "alpha = 0.1"
   ]
  },
  {
   "cell_type": "code",
   "execution_count": 5,
   "id": "079d01fa",
   "metadata": {},
   "outputs": [],
   "source": [
    "male_error = np.array([13,130,39,33,68,10,13,18,3,11,9,70,30,19,26,15,22,5,60,23,38,59,58,67,8,20,167,3,86,5])"
   ]
  },
  {
   "cell_type": "code",
   "execution_count": 6,
   "id": "91c85c25",
   "metadata": {},
   "outputs": [
    {
     "data": {
      "text/plain": [
       "array([ 13, 130,  39,  33,  68,  10,  13,  18,   3,  11,   9,  70,  30,\n",
       "        19,  26,  15,  22,   5,  60,  23,  38,  59,  58,  67,   8,  20,\n",
       "       167,   3,  86,   5])"
      ]
     },
     "execution_count": 6,
     "metadata": {},
     "output_type": "execute_result"
    }
   ],
   "source": [
    "male_error"
   ]
  },
  {
   "cell_type": "code",
   "execution_count": 7,
   "id": "8ca62c26",
   "metadata": {},
   "outputs": [],
   "source": [
    "female_error = np.array([14,138,3,78,27,8,3,111,69,8,20,36,109,80,3,18,31,12,15,128,35,35,27,122,68,32,111,91,176,66])"
   ]
  },
  {
   "cell_type": "code",
   "execution_count": 8,
   "id": "97def199",
   "metadata": {},
   "outputs": [
    {
     "data": {
      "text/plain": [
       "array([ 14, 138,   3,  78,  27,   8,   3, 111,  69,   8,  20,  36, 109,\n",
       "        80,   3,  18,  31,  12,  15, 128,  35,  35,  27, 122,  68,  32,\n",
       "       111,  91, 176,  66])"
      ]
     },
     "execution_count": 8,
     "metadata": {},
     "output_type": "execute_result"
    }
   ],
   "source": [
    "female_error"
   ]
  },
  {
   "cell_type": "code",
   "execution_count": 9,
   "id": "8ac73feb",
   "metadata": {},
   "outputs": [],
   "source": [
    "#possiblities----> right tail,left tail,two tail.\n",
    "tail_hypothesis_type = \"two_tail\""
   ]
  },
  {
   "cell_type": "code",
   "execution_count": 10,
   "id": "05edbcf0",
   "metadata": {},
   "outputs": [],
   "source": [
    "if tail_hypothesis_type == 'two_tail':\n",
    "    alpha/=2"
   ]
  },
  {
   "cell_type": "code",
   "execution_count": 11,
   "id": "e03250f8",
   "metadata": {},
   "outputs": [],
   "source": [
    "# Step2:\n",
    "# Calculate the sample of number of male & female.\n",
    "n1 = len(male_error)\n",
    "n2=len(female_error)"
   ]
  },
  {
   "cell_type": "code",
   "execution_count": 12,
   "id": "d58df698",
   "metadata": {},
   "outputs": [
    {
     "name": "stdout",
     "output_type": "stream",
     "text": [
      "30 & 30\n"
     ]
    }
   ],
   "source": [
    "print(n1,\"&\",n2)"
   ]
  },
  {
   "cell_type": "code",
   "execution_count": 13,
   "id": "fc4580d0",
   "metadata": {},
   "outputs": [],
   "source": [
    "#calculate the sample mean of the data.\n",
    "x1_bar = np.mean(male_error)"
   ]
  },
  {
   "cell_type": "code",
   "execution_count": 14,
   "id": "87b51923",
   "metadata": {},
   "outputs": [],
   "source": [
    "x2_bar = np.mean(female_error)"
   ]
  },
  {
   "cell_type": "code",
   "execution_count": 15,
   "id": "0be683d8",
   "metadata": {},
   "outputs": [
    {
     "name": "stdout",
     "output_type": "stream",
     "text": [
      "Sample mean of male is ---> 37.6 & Sample mean of female is----> 55.8\n"
     ]
    }
   ],
   "source": [
    "print(\"Sample mean of male is --->\",x1_bar,\"&\",\"Sample mean of female is---->\",x2_bar)"
   ]
  },
  {
   "cell_type": "code",
   "execution_count": 16,
   "id": "3bfcde56",
   "metadata": {},
   "outputs": [],
   "source": [
    "#calculate the sample std deviation of the data.\n",
    "# ddof=1 & population std => ddof=0\n",
    "s1=np.std(male_error,ddof=1)\n",
    "s2=np.std(female_error,ddof=1)\n"
   ]
  },
  {
   "cell_type": "code",
   "execution_count": 17,
   "id": "f90ab41f",
   "metadata": {},
   "outputs": [
    {
     "data": {
      "text/plain": [
       "38.48654041484436"
      ]
     },
     "execution_count": 17,
     "metadata": {},
     "output_type": "execute_result"
    }
   ],
   "source": [
    "s1"
   ]
  },
  {
   "cell_type": "code",
   "execution_count": 18,
   "id": "02fbd2bb",
   "metadata": {},
   "outputs": [
    {
     "data": {
      "text/plain": [
       "48.25964259552982"
      ]
     },
     "execution_count": 18,
     "metadata": {},
     "output_type": "execute_result"
    }
   ],
   "source": [
    "s2"
   ]
  },
  {
   "cell_type": "code",
   "execution_count": 19,
   "id": "941cb264",
   "metadata": {},
   "outputs": [
    {
     "name": "stdout",
     "output_type": "stream",
     "text": [
      "length of male---> 30\n",
      "leng of female----> 30\n",
      "sample Mean of male----> 37.6\n",
      "sample Mean of female----> 55.8\n",
      "std dev of male----> 38.48654041484436\n",
      "std dev of female----> 48.25964259552982\n"
     ]
    }
   ],
   "source": [
    "#stats\n",
    "# basic stats\n",
    "print(\"length of male--->\",n1)\n",
    "print(\"leng of female---->\",n2)\n",
    "print(\"sample Mean of male---->\",x1_bar)\n",
    "print(\"sample Mean of female---->\",x2_bar)\n",
    "print(\"std dev of male---->\",s1)\n",
    "print(\"std dev of female---->\",s2)"
   ]
  },
  {
   "cell_type": "code",
   "execution_count": 20,
   "id": "57e88d5b",
   "metadata": {},
   "outputs": [
    {
     "name": "stdout",
     "output_type": "stream",
     "text": [
      "Stats analysis are:-\n",
      "Fscore = 60.51448320228796\n",
      "Critical value= 1.6198996208317364\n"
     ]
    }
   ],
   "source": [
    "#step3:\n",
    "# Testing on upper critical value\n",
    "if s1>s2:\n",
    "    F_score= s1**2/s2**2\n",
    "    critical_value = stats.f.ppf(1-alpha,n1-1,n2-1)\n",
    "else:\n",
    "    F_score= s2**2/s1**1\n",
    "    critical_value = stats.f.ppf(1-alpha,n2-1,n1-1)\n",
    "print(\"Stats analysis are:-\")\n",
    "print(\"Fscore =\",F_score)\n",
    "print(\"Critical value=\",critical_value)"
   ]
  },
  {
   "cell_type": "code",
   "execution_count": 21,
   "id": "ef6a8340",
   "metadata": {},
   "outputs": [
    {
     "name": "stdout",
     "output_type": "stream",
     "text": [
      "Null hypothesis is rejected\n"
     ]
    }
   ],
   "source": [
    "#Step4;\n",
    "# conclusion---->\n",
    "conclusion = \"fail to reject the null hypothesis\"\n",
    "t_test_type = \"pooled variance test\"\n",
    "\n",
    "if F_score > critical_value:\n",
    "    conclusion = \"Null hypothesis is rejected\"\n",
    "    t_test_type = \"Seperate variance t test\"\n",
    "print(conclusion)"
   ]
  },
  {
   "cell_type": "code",
   "execution_count": 22,
   "id": "e3aafff7",
   "metadata": {},
   "outputs": [
    {
     "name": "stdout",
     "output_type": "stream",
     "text": [
      "0.1\n"
     ]
    }
   ],
   "source": [
    "print(alpha)"
   ]
  },
  {
   "cell_type": "code",
   "execution_count": null,
   "id": "bcdedbfc",
   "metadata": {},
   "outputs": [],
   "source": []
  }
 ],
 "metadata": {
  "kernelspec": {
   "display_name": "Python 3 (ipykernel)",
   "language": "python",
   "name": "python3"
  },
  "language_info": {
   "codemirror_mode": {
    "name": "ipython",
    "version": 3
   },
   "file_extension": ".py",
   "mimetype": "text/x-python",
   "name": "python",
   "nbconvert_exporter": "python",
   "pygments_lexer": "ipython3",
   "version": "3.9.7"
  }
 },
 "nbformat": 4,
 "nbformat_minor": 5
}
