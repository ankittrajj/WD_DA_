{
 "cells": [
  {
   "cell_type": "code",
   "execution_count": 1,
   "id": "6a3a16db",
   "metadata": {},
   "outputs": [],
   "source": [
    "import pandas as pd\n",
    "import matplotlib.pyplot as plt\n",
    "%matplotlib inline"
   ]
  },
  {
   "cell_type": "code",
   "execution_count": 4,
   "id": "940dfefc",
   "metadata": {},
   "outputs": [],
   "source": [
    "df = pd.read_csv(r'C:\\Users\\ddugky\\Downloads\\New folder\\covid_asia_weekly_trend.csv')"
   ]
  },
  {
   "cell_type": "code",
   "execution_count": 6,
   "id": "abf52df0",
   "metadata": {},
   "outputs": [
    {
     "data": {
      "text/html": [
       "<div>\n",
       "<style scoped>\n",
       "    .dataframe tbody tr th:only-of-type {\n",
       "        vertical-align: middle;\n",
       "    }\n",
       "\n",
       "    .dataframe tbody tr th {\n",
       "        vertical-align: top;\n",
       "    }\n",
       "\n",
       "    .dataframe thead th {\n",
       "        text-align: right;\n",
       "    }\n",
       "</style>\n",
       "<table border=\"1\" class=\"dataframe\">\n",
       "  <thead>\n",
       "    <tr style=\"text-align: right;\">\n",
       "      <th></th>\n",
       "      <th>Country/Other</th>\n",
       "      <th>Cases in the last 7 days</th>\n",
       "      <th>Cases in the preceding 7 days</th>\n",
       "      <th>Weekly Case % Change</th>\n",
       "      <th>Cases in the last 7 days/1M pop</th>\n",
       "      <th>Deaths in the last 7 days</th>\n",
       "      <th>Deaths in the preceding 7 days</th>\n",
       "      <th>Weekly Death % Change</th>\n",
       "      <th>Deaths in the last 7 days/1M pop</th>\n",
       "      <th>Population</th>\n",
       "    </tr>\n",
       "  </thead>\n",
       "  <tbody>\n",
       "    <tr>\n",
       "      <th>0</th>\n",
       "      <td>Afghanistan</td>\n",
       "      <td>288</td>\n",
       "      <td>339</td>\n",
       "      <td>-15</td>\n",
       "      <td>7</td>\n",
       "      <td>3</td>\n",
       "      <td>8</td>\n",
       "      <td>-63</td>\n",
       "      <td>0</td>\n",
       "      <td>40164434</td>\n",
       "    </tr>\n",
       "    <tr>\n",
       "      <th>1</th>\n",
       "      <td>Armenia</td>\n",
       "      <td>3640</td>\n",
       "      <td>4965</td>\n",
       "      <td>-27</td>\n",
       "      <td>1225</td>\n",
       "      <td>211</td>\n",
       "      <td>249</td>\n",
       "      <td>-15</td>\n",
       "      <td>71</td>\n",
       "      <td>2971068</td>\n",
       "    </tr>\n",
       "    <tr>\n",
       "      <th>2</th>\n",
       "      <td>Azerbaijan</td>\n",
       "      <td>11615</td>\n",
       "      <td>12763</td>\n",
       "      <td>-9</td>\n",
       "      <td>1131</td>\n",
       "      <td>170</td>\n",
       "      <td>184</td>\n",
       "      <td>-8</td>\n",
       "      <td>17</td>\n",
       "      <td>10268225</td>\n",
       "    </tr>\n",
       "    <tr>\n",
       "      <th>3</th>\n",
       "      <td>Bahrain</td>\n",
       "      <td>246</td>\n",
       "      <td>182</td>\n",
       "      <td>35</td>\n",
       "      <td>138</td>\n",
       "      <td>0</td>\n",
       "      <td>1</td>\n",
       "      <td>-100</td>\n",
       "      <td>0</td>\n",
       "      <td>1784842</td>\n",
       "    </tr>\n",
       "    <tr>\n",
       "      <th>4</th>\n",
       "      <td>Bangladesh</td>\n",
       "      <td>1648</td>\n",
       "      <td>1688</td>\n",
       "      <td>-2</td>\n",
       "      <td>10</td>\n",
       "      <td>23</td>\n",
       "      <td>30</td>\n",
       "      <td>-23</td>\n",
       "      <td>0</td>\n",
       "      <td>167006043</td>\n",
       "    </tr>\n",
       "  </tbody>\n",
       "</table>\n",
       "</div>"
      ],
      "text/plain": [
       "  Country/Other  Cases in the last 7 days  Cases in the preceding 7 days  \\\n",
       "0   Afghanistan                       288                            339   \n",
       "1       Armenia                      3640                           4965   \n",
       "2    Azerbaijan                     11615                          12763   \n",
       "3       Bahrain                       246                            182   \n",
       "4    Bangladesh                      1648                           1688   \n",
       "\n",
       "   Weekly Case % Change  Cases in the last 7 days/1M pop  \\\n",
       "0                   -15                                7   \n",
       "1                   -27                             1225   \n",
       "2                    -9                             1131   \n",
       "3                    35                              138   \n",
       "4                    -2                               10   \n",
       "\n",
       "   Deaths in the last 7 days  Deaths in the preceding 7 days  \\\n",
       "0                          3                               8   \n",
       "1                        211                             249   \n",
       "2                        170                             184   \n",
       "3                          0                               1   \n",
       "4                         23                              30   \n",
       "\n",
       "   Weekly Death % Change  Deaths in the last 7 days/1M pop  Population  \n",
       "0                    -63                                 0    40164434  \n",
       "1                    -15                                71     2971068  \n",
       "2                     -8                                17    10268225  \n",
       "3                   -100                                 0     1784842  \n",
       "4                    -23                                 0   167006043  "
      ]
     },
     "execution_count": 6,
     "metadata": {},
     "output_type": "execute_result"
    }
   ],
   "source": [
    "df.head()"
   ]
  },
  {
   "cell_type": "code",
   "execution_count": 7,
   "id": "452bc375",
   "metadata": {},
   "outputs": [
    {
     "data": {
      "text/html": [
       "<div>\n",
       "<style scoped>\n",
       "    .dataframe tbody tr th:only-of-type {\n",
       "        vertical-align: middle;\n",
       "    }\n",
       "\n",
       "    .dataframe tbody tr th {\n",
       "        vertical-align: top;\n",
       "    }\n",
       "\n",
       "    .dataframe thead th {\n",
       "        text-align: right;\n",
       "    }\n",
       "</style>\n",
       "<table border=\"1\" class=\"dataframe\">\n",
       "  <thead>\n",
       "    <tr style=\"text-align: right;\">\n",
       "      <th></th>\n",
       "      <th>Country/Other</th>\n",
       "      <th>Cases in the last 7 days</th>\n",
       "      <th>Cases in the preceding 7 days</th>\n",
       "      <th>Weekly Case % Change</th>\n",
       "      <th>Cases in the last 7 days/1M pop</th>\n",
       "      <th>Deaths in the last 7 days</th>\n",
       "      <th>Deaths in the preceding 7 days</th>\n",
       "      <th>Weekly Death % Change</th>\n",
       "      <th>Deaths in the last 7 days/1M pop</th>\n",
       "      <th>Population</th>\n",
       "    </tr>\n",
       "  </thead>\n",
       "  <tbody>\n",
       "    <tr>\n",
       "      <th>43</th>\n",
       "      <td>Turkey</td>\n",
       "      <td>171008</td>\n",
       "      <td>167461</td>\n",
       "      <td>2</td>\n",
       "      <td>1997</td>\n",
       "      <td>1399</td>\n",
       "      <td>1470</td>\n",
       "      <td>-5</td>\n",
       "      <td>16</td>\n",
       "      <td>85620347</td>\n",
       "    </tr>\n",
       "    <tr>\n",
       "      <th>44</th>\n",
       "      <td>UAE</td>\n",
       "      <td>471</td>\n",
       "      <td>496</td>\n",
       "      <td>-5</td>\n",
       "      <td>47</td>\n",
       "      <td>3</td>\n",
       "      <td>0</td>\n",
       "      <td>3</td>\n",
       "      <td>0</td>\n",
       "      <td>10059090</td>\n",
       "    </tr>\n",
       "    <tr>\n",
       "      <th>45</th>\n",
       "      <td>Uzbekistan</td>\n",
       "      <td>1458</td>\n",
       "      <td>1646</td>\n",
       "      <td>-11</td>\n",
       "      <td>43</td>\n",
       "      <td>20</td>\n",
       "      <td>22</td>\n",
       "      <td>-9</td>\n",
       "      <td>1</td>\n",
       "      <td>34153753</td>\n",
       "    </tr>\n",
       "    <tr>\n",
       "      <th>46</th>\n",
       "      <td>Vietnam</td>\n",
       "      <td>94115</td>\n",
       "      <td>72079</td>\n",
       "      <td>0</td>\n",
       "      <td>955</td>\n",
       "      <td>1134</td>\n",
       "      <td>848</td>\n",
       "      <td>0</td>\n",
       "      <td>12</td>\n",
       "      <td>98575292</td>\n",
       "    </tr>\n",
       "    <tr>\n",
       "      <th>47</th>\n",
       "      <td>Yemen</td>\n",
       "      <td>37</td>\n",
       "      <td>31</td>\n",
       "      <td>19</td>\n",
       "      <td>1</td>\n",
       "      <td>8</td>\n",
       "      <td>16</td>\n",
       "      <td>-50</td>\n",
       "      <td>0</td>\n",
       "      <td>30752189</td>\n",
       "    </tr>\n",
       "  </tbody>\n",
       "</table>\n",
       "</div>"
      ],
      "text/plain": [
       "   Country/Other  Cases in the last 7 days  Cases in the preceding 7 days  \\\n",
       "43        Turkey                    171008                         167461   \n",
       "44           UAE                       471                            496   \n",
       "45    Uzbekistan                      1458                           1646   \n",
       "46       Vietnam                     94115                          72079   \n",
       "47         Yemen                        37                             31   \n",
       "\n",
       "    Weekly Case % Change  Cases in the last 7 days/1M pop  \\\n",
       "43                     2                             1997   \n",
       "44                    -5                               47   \n",
       "45                   -11                               43   \n",
       "46                     0                              955   \n",
       "47                    19                                1   \n",
       "\n",
       "    Deaths in the last 7 days  Deaths in the preceding 7 days  \\\n",
       "43                       1399                            1470   \n",
       "44                          3                               0   \n",
       "45                         20                              22   \n",
       "46                       1134                             848   \n",
       "47                          8                              16   \n",
       "\n",
       "    Weekly Death % Change  Deaths in the last 7 days/1M pop  Population  \n",
       "43                     -5                                16    85620347  \n",
       "44                      3                                 0    10059090  \n",
       "45                     -9                                 1    34153753  \n",
       "46                      0                                12    98575292  \n",
       "47                    -50                                 0    30752189  "
      ]
     },
     "execution_count": 7,
     "metadata": {},
     "output_type": "execute_result"
    }
   ],
   "source": [
    "df.tail()"
   ]
  },
  {
   "cell_type": "code",
   "execution_count": 8,
   "id": "2a1ce293",
   "metadata": {},
   "outputs": [
    {
     "data": {
      "text/html": [
       "<div>\n",
       "<style scoped>\n",
       "    .dataframe tbody tr th:only-of-type {\n",
       "        vertical-align: middle;\n",
       "    }\n",
       "\n",
       "    .dataframe tbody tr th {\n",
       "        vertical-align: top;\n",
       "    }\n",
       "\n",
       "    .dataframe thead th {\n",
       "        text-align: right;\n",
       "    }\n",
       "</style>\n",
       "<table border=\"1\" class=\"dataframe\">\n",
       "  <thead>\n",
       "    <tr style=\"text-align: right;\">\n",
       "      <th></th>\n",
       "      <th>Country/Other</th>\n",
       "      <th>Cases in the last 7 days</th>\n",
       "      <th>Cases in the preceding 7 days</th>\n",
       "      <th>Weekly Case % Change</th>\n",
       "      <th>Cases in the last 7 days/1M pop</th>\n",
       "      <th>Deaths in the last 7 days</th>\n",
       "      <th>Deaths in the preceding 7 days</th>\n",
       "      <th>Weekly Death % Change</th>\n",
       "      <th>Deaths in the last 7 days/1M pop</th>\n",
       "      <th>Population</th>\n",
       "    </tr>\n",
       "  </thead>\n",
       "  <tbody>\n",
       "    <tr>\n",
       "      <th>15</th>\n",
       "      <td>Iraq</td>\n",
       "      <td>5026</td>\n",
       "      <td>5263</td>\n",
       "      <td>-5</td>\n",
       "      <td>121</td>\n",
       "      <td>108</td>\n",
       "      <td>150</td>\n",
       "      <td>-28</td>\n",
       "      <td>3</td>\n",
       "      <td>41495089</td>\n",
       "    </tr>\n",
       "  </tbody>\n",
       "</table>\n",
       "</div>"
      ],
      "text/plain": [
       "   Country/Other  Cases in the last 7 days  Cases in the preceding 7 days  \\\n",
       "15          Iraq                      5026                           5263   \n",
       "\n",
       "    Weekly Case % Change  Cases in the last 7 days/1M pop  \\\n",
       "15                    -5                              121   \n",
       "\n",
       "    Deaths in the last 7 days  Deaths in the preceding 7 days  \\\n",
       "15                        108                             150   \n",
       "\n",
       "    Weekly Death % Change  Deaths in the last 7 days/1M pop  Population  \n",
       "15                    -28                                 3    41495089  "
      ]
     },
     "execution_count": 8,
     "metadata": {},
     "output_type": "execute_result"
    }
   ],
   "source": [
    "df.sample()"
   ]
  },
  {
   "cell_type": "code",
   "execution_count": 9,
   "id": "cf2edf32",
   "metadata": {},
   "outputs": [
    {
     "data": {
      "text/plain": [
       "Country/Other                       0\n",
       "Cases in the last 7 days            0\n",
       "Cases in the preceding 7 days       0\n",
       "Weekly Case % Change                0\n",
       "Cases in the last 7 days/1M pop     0\n",
       "Deaths in the last 7 days           0\n",
       "Deaths in the preceding 7 days      0\n",
       "Weekly Death % Change               0\n",
       "Deaths in the last 7 days/1M pop    0\n",
       "Population                          0\n",
       "dtype: int64"
      ]
     },
     "execution_count": 9,
     "metadata": {},
     "output_type": "execute_result"
    }
   ],
   "source": [
    "df.isnull().sum()"
   ]
  },
  {
   "cell_type": "code",
   "execution_count": 11,
   "id": "0fae9184",
   "metadata": {},
   "outputs": [
    {
     "data": {
      "text/html": [
       "<div>\n",
       "<style scoped>\n",
       "    .dataframe tbody tr th:only-of-type {\n",
       "        vertical-align: middle;\n",
       "    }\n",
       "\n",
       "    .dataframe tbody tr th {\n",
       "        vertical-align: top;\n",
       "    }\n",
       "\n",
       "    .dataframe thead th {\n",
       "        text-align: right;\n",
       "    }\n",
       "</style>\n",
       "<table border=\"1\" class=\"dataframe\">\n",
       "  <thead>\n",
       "    <tr style=\"text-align: right;\">\n",
       "      <th></th>\n",
       "      <th>Cases in the last 7 days</th>\n",
       "      <th>Cases in the preceding 7 days</th>\n",
       "      <th>Weekly Case % Change</th>\n",
       "      <th>Cases in the last 7 days/1M pop</th>\n",
       "      <th>Deaths in the last 7 days</th>\n",
       "      <th>Deaths in the preceding 7 days</th>\n",
       "      <th>Weekly Death % Change</th>\n",
       "      <th>Deaths in the last 7 days/1M pop</th>\n",
       "      <th>Population</th>\n",
       "    </tr>\n",
       "  </thead>\n",
       "  <tbody>\n",
       "    <tr>\n",
       "      <th>count</th>\n",
       "      <td>48.000000</td>\n",
       "      <td>48.000000</td>\n",
       "      <td>48.000000</td>\n",
       "      <td>48.000000</td>\n",
       "      <td>48.000000</td>\n",
       "      <td>48.000000</td>\n",
       "      <td>48.000000</td>\n",
       "      <td>48.000000</td>\n",
       "      <td>4.800000e+01</td>\n",
       "    </tr>\n",
       "    <tr>\n",
       "      <th>mean</th>\n",
       "      <td>12680.687500</td>\n",
       "      <td>12720.083333</td>\n",
       "      <td>-8.895833</td>\n",
       "      <td>625.041667</td>\n",
       "      <td>204.583333</td>\n",
       "      <td>213.083333</td>\n",
       "      <td>-14.916667</td>\n",
       "      <td>7.583333</td>\n",
       "      <td>9.717682e+07</td>\n",
       "    </tr>\n",
       "    <tr>\n",
       "      <th>std</th>\n",
       "      <td>29438.043546</td>\n",
       "      <td>28392.214578</td>\n",
       "      <td>26.296379</td>\n",
       "      <td>1146.419940</td>\n",
       "      <td>473.239889</td>\n",
       "      <td>477.633610</td>\n",
       "      <td>23.984776</td>\n",
       "      <td>18.630601</td>\n",
       "      <td>2.854619e+08</td>\n",
       "    </tr>\n",
       "    <tr>\n",
       "      <th>min</th>\n",
       "      <td>0.000000</td>\n",
       "      <td>4.000000</td>\n",
       "      <td>-100.000000</td>\n",
       "      <td>0.000000</td>\n",
       "      <td>0.000000</td>\n",
       "      <td>0.000000</td>\n",
       "      <td>-100.000000</td>\n",
       "      <td>0.000000</td>\n",
       "      <td>4.433940e+05</td>\n",
       "    </tr>\n",
       "    <tr>\n",
       "      <th>25%</th>\n",
       "      <td>277.500000</td>\n",
       "      <td>331.000000</td>\n",
       "      <td>-18.250000</td>\n",
       "      <td>9.750000</td>\n",
       "      <td>2.750000</td>\n",
       "      <td>2.500000</td>\n",
       "      <td>-20.000000</td>\n",
       "      <td>0.000000</td>\n",
       "      <td>5.284405e+06</td>\n",
       "    </tr>\n",
       "    <tr>\n",
       "      <th>50%</th>\n",
       "      <td>2086.500000</td>\n",
       "      <td>2222.500000</td>\n",
       "      <td>-10.000000</td>\n",
       "      <td>90.500000</td>\n",
       "      <td>27.000000</td>\n",
       "      <td>29.500000</td>\n",
       "      <td>-5.500000</td>\n",
       "      <td>2.000000</td>\n",
       "      <td>1.757273e+07</td>\n",
       "    </tr>\n",
       "    <tr>\n",
       "      <th>75%</th>\n",
       "      <td>9265.500000</td>\n",
       "      <td>8235.000000</td>\n",
       "      <td>0.000000</td>\n",
       "      <td>964.500000</td>\n",
       "      <td>165.500000</td>\n",
       "      <td>148.500000</td>\n",
       "      <td>0.000000</td>\n",
       "      <td>8.000000</td>\n",
       "      <td>5.222989e+07</td>\n",
       "    </tr>\n",
       "    <tr>\n",
       "      <th>max</th>\n",
       "      <td>171008.000000</td>\n",
       "      <td>167461.000000</td>\n",
       "      <td>51.000000</td>\n",
       "      <td>6651.000000</td>\n",
       "      <td>2663.000000</td>\n",
       "      <td>2431.000000</td>\n",
       "      <td>3.000000</td>\n",
       "      <td>110.000000</td>\n",
       "      <td>1.447176e+09</td>\n",
       "    </tr>\n",
       "  </tbody>\n",
       "</table>\n",
       "</div>"
      ],
      "text/plain": [
       "       Cases in the last 7 days  Cases in the preceding 7 days  \\\n",
       "count                 48.000000                      48.000000   \n",
       "mean               12680.687500                   12720.083333   \n",
       "std                29438.043546                   28392.214578   \n",
       "min                    0.000000                       4.000000   \n",
       "25%                  277.500000                     331.000000   \n",
       "50%                 2086.500000                    2222.500000   \n",
       "75%                 9265.500000                    8235.000000   \n",
       "max               171008.000000                  167461.000000   \n",
       "\n",
       "       Weekly Case % Change  Cases in the last 7 days/1M pop  \\\n",
       "count             48.000000                        48.000000   \n",
       "mean              -8.895833                       625.041667   \n",
       "std               26.296379                      1146.419940   \n",
       "min             -100.000000                         0.000000   \n",
       "25%              -18.250000                         9.750000   \n",
       "50%              -10.000000                        90.500000   \n",
       "75%                0.000000                       964.500000   \n",
       "max               51.000000                      6651.000000   \n",
       "\n",
       "       Deaths in the last 7 days  Deaths in the preceding 7 days  \\\n",
       "count                  48.000000                       48.000000   \n",
       "mean                  204.583333                      213.083333   \n",
       "std                   473.239889                      477.633610   \n",
       "min                     0.000000                        0.000000   \n",
       "25%                     2.750000                        2.500000   \n",
       "50%                    27.000000                       29.500000   \n",
       "75%                   165.500000                      148.500000   \n",
       "max                  2663.000000                     2431.000000   \n",
       "\n",
       "       Weekly Death % Change  Deaths in the last 7 days/1M pop    Population  \n",
       "count              48.000000                         48.000000  4.800000e+01  \n",
       "mean              -14.916667                          7.583333  9.717682e+07  \n",
       "std                23.984776                         18.630601  2.854619e+08  \n",
       "min              -100.000000                          0.000000  4.433940e+05  \n",
       "25%               -20.000000                          0.000000  5.284405e+06  \n",
       "50%                -5.500000                          2.000000  1.757273e+07  \n",
       "75%                 0.000000                          8.000000  5.222989e+07  \n",
       "max                 3.000000                        110.000000  1.447176e+09  "
      ]
     },
     "execution_count": 11,
     "metadata": {},
     "output_type": "execute_result"
    }
   ],
   "source": [
    "df.describe()"
   ]
  },
  {
   "cell_type": "code",
   "execution_count": 12,
   "id": "49f5f2f2",
   "metadata": {},
   "outputs": [
    {
     "data": {
      "text/plain": [
       "(48, 10)"
      ]
     },
     "execution_count": 12,
     "metadata": {},
     "output_type": "execute_result"
    }
   ],
   "source": [
    "df.shape"
   ]
  },
  {
   "cell_type": "code",
   "execution_count": 16,
   "id": "ae3252b2",
   "metadata": {},
   "outputs": [
    {
     "data": {
      "text/plain": [
       "Index(['Country/Other', 'Cases in the last 7 days',\n",
       "       'Cases in the preceding 7 days', 'Weekly Case % Change',\n",
       "       'Cases in the last 7 days/1M pop', 'Deaths in the last 7 days',\n",
       "       'Deaths in the preceding 7 days', 'Weekly Death % Change',\n",
       "       'Deaths in the last 7 days/1M pop', 'Population'],\n",
       "      dtype='object')"
      ]
     },
     "execution_count": 16,
     "metadata": {},
     "output_type": "execute_result"
    }
   ],
   "source": [
    "df.columns"
   ]
  },
  {
   "cell_type": "code",
   "execution_count": 17,
   "id": "82532f1d",
   "metadata": {},
   "outputs": [],
   "source": [
    "x= df['Country/Other']"
   ]
  },
  {
   "cell_type": "code",
   "execution_count": 18,
   "id": "8ec0f54d",
   "metadata": {},
   "outputs": [
    {
     "data": {
      "text/plain": [
       "0      Afghanistan\n",
       "1          Armenia\n",
       "2       Azerbaijan\n",
       "3          Bahrain\n",
       "4       Bangladesh\n",
       "5           Bhutan\n",
       "6           Brunei\n",
       "7         Cambodia\n",
       "8            China\n",
       "9           Cyprus\n",
       "10         Georgia\n",
       "11       Hong Kong\n",
       "12           India\n",
       "13       Indonesia\n",
       "14            Iran\n",
       "15            Iraq\n",
       "16          Israel\n",
       "17           Japan\n",
       "18          Jordan\n",
       "19      Kazakhstan\n",
       "20          Kuwait\n",
       "21      Kyrgyzstan\n",
       "22            Laos\n",
       "23         Lebanon\n",
       "24        Malaysia\n",
       "25        Maldives\n",
       "26        Mongolia\n",
       "27         Myanmar\n",
       "28           Nepal\n",
       "29            Oman\n",
       "30        Pakistan\n",
       "31       Palestine\n",
       "32     Philippines\n",
       "33           Qatar\n",
       "34        S. Korea\n",
       "35    Saudi Arabia\n",
       "36       Singapore\n",
       "37       Sri Lanka\n",
       "38           Syria\n",
       "39          Taiwan\n",
       "40      Tajikistan\n",
       "41        Thailand\n",
       "42     Timor-Leste\n",
       "43          Turkey\n",
       "44             UAE\n",
       "45      Uzbekistan\n",
       "46         Vietnam\n",
       "47           Yemen\n",
       "Name: Country/Other, dtype: object"
      ]
     },
     "execution_count": 18,
     "metadata": {},
     "output_type": "execute_result"
    }
   ],
   "source": [
    "x"
   ]
  },
  {
   "cell_type": "code",
   "execution_count": 19,
   "id": "2363ba71",
   "metadata": {},
   "outputs": [],
   "source": [
    "y = df['Cases in the last 7 days']"
   ]
  },
  {
   "cell_type": "code",
   "execution_count": 20,
   "id": "b72d78d3",
   "metadata": {},
   "outputs": [
    {
     "data": {
      "text/plain": [
       "0        288\n",
       "1       3640\n",
       "2      11615\n",
       "3        246\n",
       "4       1648\n",
       "5          7\n",
       "6        392\n",
       "7        191\n",
       "8        187\n",
       "9       3445\n",
       "10     26461\n",
       "11        26\n",
       "12     61013\n",
       "13      2417\n",
       "14     29436\n",
       "15      5026\n",
       "16      2355\n",
       "17       710\n",
       "18     30221\n",
       "19      6023\n",
       "20       185\n",
       "21       398\n",
       "22      9256\n",
       "23     10214\n",
       "24     35702\n",
       "25       706\n",
       "26      3329\n",
       "27      3300\n",
       "28      1667\n",
       "29        45\n",
       "30      2330\n",
       "31      1843\n",
       "32      4768\n",
       "33      1072\n",
       "34     26280\n",
       "35       196\n",
       "36      9294\n",
       "37      5129\n",
       "38       722\n",
       "39        62\n",
       "40         0\n",
       "41     39737\n",
       "42         2\n",
       "43    171008\n",
       "44       471\n",
       "45      1458\n",
       "46     94115\n",
       "47        37\n",
       "Name: Cases in the last 7 days, dtype: int64"
      ]
     },
     "execution_count": 20,
     "metadata": {},
     "output_type": "execute_result"
    }
   ],
   "source": [
    "y"
   ]
  },
  {
   "cell_type": "code",
   "execution_count": 21,
   "id": "fc61dcb6",
   "metadata": {},
   "outputs": [
    {
     "data": {
      "text/plain": [
       "[<matplotlib.lines.Line2D at 0x1d991475b80>]"
      ]
     },
     "execution_count": 21,
     "metadata": {},
     "output_type": "execute_result"
    },
    {
     "data": {
      "image/png": "[encoded data removed]",
      "text/plain": [
       "<Figure size 432x288 with 1 Axes>"
      ]
     },
     "metadata": {
      "needs_background": "light"
     },
     "output_type": "display_data"
    }
   ],
   "source": [
    "plt.plot(x,y)"
   ]
  },
  {
   "cell_type": "code",
   "execution_count": 22,
   "id": "643a181e",
   "metadata": {},
   "outputs": [
    {
     "data": {
      "text/plain": [
       "<BarContainer object of 48 artists>"
      ]
     },
     "execution_count": 22,
     "metadata": {},
     "output_type": "execute_result"
    },
    {
     "data": {
      "image/png": "[encoded data removed]",
      "text/plain": [
       "<Figure size 432x288 with 1 Axes>"
      ]
     },
     "metadata": {
      "needs_background": "light"
     },
     "output_type": "display_data"
    }
   ],
   "source": [
    "plt.bar(y,x)"
   ]
  },
  {
   "cell_type": "code",
   "execution_count": 26,
   "id": "d95f3c6a",
   "metadata": {},
   "outputs": [
    {
     "data": {
      "image/png": "[encoded data removed]",
      "text/plain": [
       "<Figure size 432x288 with 1 Axes>"
      ]
     },
     "metadata": {},
     "output_type": "display_data"
    }
   ],
   "source": [
    "plt.pie(y,labels=x)\n",
    "plt.show()"
   ]
  },
  {
   "cell_type": "code",
   "execution_count": 27,
   "id": "2b49d930",
   "metadata": {},
   "outputs": [
    {
     "data": {
      "text/plain": [
       "171008"
      ]
     },
     "execution_count": 27,
     "metadata": {},
     "output_type": "execute_result"
    }
   ],
   "source": [
    "df['Cases in the last 7 days'].max()"
   ]
  },
  {
   "cell_type": "code",
   "execution_count": 28,
   "id": "8ad78877",
   "metadata": {},
   "outputs": [
    {
     "data": {
      "text/plain": [
       "43    171008\n",
       "46     94115\n",
       "12     61013\n",
       "41     39737\n",
       "24     35702\n",
       "Name: Cases in the last 7 days, dtype: int64"
      ]
     },
     "execution_count": 28,
     "metadata": {},
     "output_type": "execute_result"
    }
   ],
   "source": [
    "#find top 5 countries having max cases\n",
    "# find top 5 countries having min. cases\n",
    "\n",
    "df['Cases in the last 7 days']"
   ]
  },
  {
   "cell_type": "code",
   "execution_count": 29,
   "id": "1f7fd2aa",
   "metadata": {},
   "outputs": [
    {
     "ename": "SyntaxError",
     "evalue": "unexpected EOF while parsing (Temp/ipykernel_284/383168362.py, line 1)",
     "output_type": "error",
     "traceback": [
      "\u001b[1;36m  File \u001b[1;32m\"C:\\Users\\ddugky\\AppData\\Local\\Temp/ipykernel_284/383168362.py\"\u001b[1;36m, line \u001b[1;32m1\u001b[0m\n\u001b[1;33m    df[\"cases in the last 7 days\"],nsmallest(5,[\"cases in the last 7 days\"]\u001b[0m\n\u001b[1;37m                                                                           ^\u001b[0m\n\u001b[1;31mSyntaxError\u001b[0m\u001b[1;31m:\u001b[0m unexpected EOF while parsing\n"
     ]
    }
   ],
   "source": [
    "df[\"cases in the last 7 days\"],nsmallest(5,[\"cases in the last 7 days\"]"
   ]
  },
  {
   "cell_type": "code",
   "execution_count": 30,
   "id": "73512c9b",
   "metadata": {},
   "outputs": [
    {
     "data": {
      "text/html": [
       "<div>\n",
       "<style scoped>\n",
       "    .dataframe tbody tr th:only-of-type {\n",
       "        vertical-align: middle;\n",
       "    }\n",
       "\n",
       "    .dataframe tbody tr th {\n",
       "        vertical-align: top;\n",
       "    }\n",
       "\n",
       "    .dataframe thead th {\n",
       "        text-align: right;\n",
       "    }\n",
       "</style>\n",
       "<table border=\"1\" class=\"dataframe\">\n",
       "  <thead>\n",
       "    <tr style=\"text-align: right;\">\n",
       "      <th></th>\n",
       "      <th>Country/Other</th>\n",
       "      <th>Weekly Case % Change</th>\n",
       "    </tr>\n",
       "  </thead>\n",
       "  <tbody>\n",
       "    <tr>\n",
       "      <th>39</th>\n",
       "      <td>Taiwan</td>\n",
       "      <td>51</td>\n",
       "    </tr>\n",
       "    <tr>\n",
       "      <th>20</th>\n",
       "      <td>Kuwait</td>\n",
       "      <td>46</td>\n",
       "    </tr>\n",
       "    <tr>\n",
       "      <th>3</th>\n",
       "      <td>Bahrain</td>\n",
       "      <td>35</td>\n",
       "    </tr>\n",
       "    <tr>\n",
       "      <th>9</th>\n",
       "      <td>Cyprus</td>\n",
       "      <td>32</td>\n",
       "    </tr>\n",
       "    <tr>\n",
       "      <th>31</th>\n",
       "      <td>Palestine</td>\n",
       "      <td>25</td>\n",
       "    </tr>\n",
       "  </tbody>\n",
       "</table>\n",
       "</div>"
      ],
      "text/plain": [
       "   Country/Other  Weekly Case % Change\n",
       "39        Taiwan                    51\n",
       "20        Kuwait                    46\n",
       "3        Bahrain                    35\n",
       "9         Cyprus                    32\n",
       "31     Palestine                    25"
      ]
     },
     "execution_count": 30,
     "metadata": {},
     "output_type": "execute_result"
    }
   ],
   "source": [
    "df[['Country/Other','Weekly Case % Change']].nlargest(5,['Weekly Case % Change'])\n"
   ]
  },
  {
   "cell_type": "code",
   "execution_count": 50,
   "id": "30d9c9c3",
   "metadata": {},
   "outputs": [],
   "source": [
    "max_cases_top_5_country = df[['Country/Other','Cases in the last 7 days']].nlargest(5,['Cases in the last 7 days'])\n",
    "min_cases_top_5_country = df[['Country/Other','Cases in the last 7 days']].nsmallest(5,['Cases in the last 7 days'])"
   ]
  },
  {
   "cell_type": "code",
   "execution_count": 51,
   "id": "71e2fb6e",
   "metadata": {},
   "outputs": [
    {
     "data": {
      "text/html": [
       "<div>\n",
       "<style scoped>\n",
       "    .dataframe tbody tr th:only-of-type {\n",
       "        vertical-align: middle;\n",
       "    }\n",
       "\n",
       "    .dataframe tbody tr th {\n",
       "        vertical-align: top;\n",
       "    }\n",
       "\n",
       "    .dataframe thead th {\n",
       "        text-align: right;\n",
       "    }\n",
       "</style>\n",
       "<table border=\"1\" class=\"dataframe\">\n",
       "  <thead>\n",
       "    <tr style=\"text-align: right;\">\n",
       "      <th></th>\n",
       "      <th>Country/Other</th>\n",
       "      <th>Cases in the last 7 days</th>\n",
       "    </tr>\n",
       "  </thead>\n",
       "  <tbody>\n",
       "    <tr>\n",
       "      <th>43</th>\n",
       "      <td>Turkey</td>\n",
       "      <td>171008</td>\n",
       "    </tr>\n",
       "    <tr>\n",
       "      <th>46</th>\n",
       "      <td>Vietnam</td>\n",
       "      <td>94115</td>\n",
       "    </tr>\n",
       "    <tr>\n",
       "      <th>12</th>\n",
       "      <td>India</td>\n",
       "      <td>61013</td>\n",
       "    </tr>\n",
       "    <tr>\n",
       "      <th>41</th>\n",
       "      <td>Thailand</td>\n",
       "      <td>39737</td>\n",
       "    </tr>\n",
       "    <tr>\n",
       "      <th>24</th>\n",
       "      <td>Malaysia</td>\n",
       "      <td>35702</td>\n",
       "    </tr>\n",
       "  </tbody>\n",
       "</table>\n",
       "</div>"
      ],
      "text/plain": [
       "   Country/Other  Cases in the last 7 days\n",
       "43        Turkey                    171008\n",
       "46       Vietnam                     94115\n",
       "12         India                     61013\n",
       "41      Thailand                     39737\n",
       "24      Malaysia                     35702"
      ]
     },
     "execution_count": 51,
     "metadata": {},
     "output_type": "execute_result"
    }
   ],
   "source": [
    "max_cases_top_5_country"
   ]
  },
  {
   "cell_type": "code",
   "execution_count": 52,
   "id": "9d43fb38",
   "metadata": {},
   "outputs": [
    {
     "data": {
      "text/html": [
       "<div>\n",
       "<style scoped>\n",
       "    .dataframe tbody tr th:only-of-type {\n",
       "        vertical-align: middle;\n",
       "    }\n",
       "\n",
       "    .dataframe tbody tr th {\n",
       "        vertical-align: top;\n",
       "    }\n",
       "\n",
       "    .dataframe thead th {\n",
       "        text-align: right;\n",
       "    }\n",
       "</style>\n",
       "<table border=\"1\" class=\"dataframe\">\n",
       "  <thead>\n",
       "    <tr style=\"text-align: right;\">\n",
       "      <th></th>\n",
       "      <th>Country/Other</th>\n",
       "      <th>Cases in the last 7 days</th>\n",
       "    </tr>\n",
       "  </thead>\n",
       "  <tbody>\n",
       "    <tr>\n",
       "      <th>40</th>\n",
       "      <td>Tajikistan</td>\n",
       "      <td>0</td>\n",
       "    </tr>\n",
       "    <tr>\n",
       "      <th>42</th>\n",
       "      <td>Timor-Leste</td>\n",
       "      <td>2</td>\n",
       "    </tr>\n",
       "    <tr>\n",
       "      <th>5</th>\n",
       "      <td>Bhutan</td>\n",
       "      <td>7</td>\n",
       "    </tr>\n",
       "    <tr>\n",
       "      <th>11</th>\n",
       "      <td>Hong Kong</td>\n",
       "      <td>26</td>\n",
       "    </tr>\n",
       "    <tr>\n",
       "      <th>47</th>\n",
       "      <td>Yemen</td>\n",
       "      <td>37</td>\n",
       "    </tr>\n",
       "  </tbody>\n",
       "</table>\n",
       "</div>"
      ],
      "text/plain": [
       "   Country/Other  Cases in the last 7 days\n",
       "40    Tajikistan                         0\n",
       "42   Timor-Leste                         2\n",
       "5         Bhutan                         7\n",
       "11     Hong Kong                        26\n",
       "47         Yemen                        37"
      ]
     },
     "execution_count": 52,
     "metadata": {},
     "output_type": "execute_result"
    }
   ],
   "source": [
    "# plt.bar(max_cases_top_5_country)\n",
    "min_cases_top_5_country"
   ]
  },
  {
   "cell_type": "code",
   "execution_count": 66,
   "id": "11390ca1",
   "metadata": {},
   "outputs": [
    {
     "data": {
      "text/plain": [
       "[<matplotlib.lines.Line2D at 0x1d994ffaa90>]"
      ]
     },
     "execution_count": 66,
     "metadata": {},
     "output_type": "execute_result"
    },
    {
     "data": {
      "image/png": "[encoded data removed]",
      "text/plain": [
       "<Figure size 432x288 with 1 Axes>"
      ]
     },
     "metadata": {
      "needs_background": "light"
     },
     "output_type": "display_data"
    }
   ],
   "source": [
    "plt.plot(max_cases_top_5_country['Country/Other'],max_cases_top_5_country['Cases in the last 7 days'],color='r',marker='o')"
   ]
  },
  {
   "cell_type": "code",
   "execution_count": 62,
   "id": "aa519991",
   "metadata": {},
   "outputs": [
    {
     "data": {
      "text/plain": [
       "0       40164434\n",
       "1        2971068\n",
       "2       10268225\n",
       "3        1784842\n",
       "4      167006043\n",
       "5         783603\n",
       "6         443394\n",
       "7       17045531\n",
       "8     1447175543\n",
       "9        1219772\n",
       "10       3978346\n",
       "11       7582874\n",
       "12    1399161383\n",
       "13     277607186\n",
       "14      85510446\n",
       "15      41495089\n",
       "16       9326000\n",
       "17     125929267\n",
       "18      10346151\n",
       "19      19093759\n",
       "20       4359700\n",
       "21       6676068\n",
       "22       7424555\n",
       "23       6782245\n",
       "24      32951341\n",
       "25        553975\n",
       "26       3352781\n",
       "27      54924965\n",
       "28      29876090\n",
       "29       5289673\n",
       "30     226941972\n",
       "31       5268600\n",
       "32     111639683\n",
       "33       2807805\n",
       "34      51331529\n",
       "35      35578933\n",
       "36       5915319\n",
       "37      21540081\n",
       "38      18099930\n",
       "39      23877680\n",
       "40       9839683\n",
       "41      70047428\n",
       "42       1353865\n",
       "43      85620347\n",
       "44      10059090\n",
       "45      34153753\n",
       "46      98575292\n",
       "47      30752189\n",
       "Name: Population, dtype: int64"
      ]
     },
     "execution_count": 62,
     "metadata": {},
     "output_type": "execute_result"
    }
   ],
   "source": [
    "df['Population']"
   ]
  },
  {
   "cell_type": "code",
   "execution_count": null,
   "id": "032831bb",
   "metadata": {},
   "outputs": [],
   "source": []
  }
 ],
 "metadata": {
  "kernelspec": {
   "display_name": "Python 3 (ipykernel)",
   "language": "python",
   "name": "python3"
  },
  "language_info": {
   "codemirror_mode": {
    "name": "ipython",
    "version": 3
   },
   "file_extension": ".py",
   "mimetype": "text/x-python",
   "name": "python",
   "nbconvert_exporter": "python",
   "pygments_lexer": "ipython3",
   "version": "3.9.7"
  }
 },
 "nbformat": 4,
 "nbformat_minor": 5
}
