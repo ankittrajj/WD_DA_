{
 "cells": [
  {
   "cell_type": "code",
   "execution_count": 1,
   "id": "51442a59",
   "metadata": {},
   "outputs": [],
   "source": [
    "import pandas as pd"
   ]
  },
  {
   "cell_type": "code",
   "execution_count": 2,
   "id": "473bcd1b",
   "metadata": {},
   "outputs": [],
   "source": [
    "df= pd.read_csv(r'C:\\Users\\ddugky\\Desktop\\Bank-Customers_Data.csv')"
   ]
  },
  {
   "cell_type": "code",
   "execution_count": 3,
   "id": "5c7bc9de",
   "metadata": {},
   "outputs": [
    {
     "data": {
      "text/html": [
       "<div>\n",
       "<style scoped>\n",
       "    .dataframe tbody tr th:only-of-type {\n",
       "        vertical-align: middle;\n",
       "    }\n",
       "\n",
       "    .dataframe tbody tr th {\n",
       "        vertical-align: top;\n",
       "    }\n",
       "\n",
       "    .dataframe thead th {\n",
       "        text-align: right;\n",
       "    }\n",
       "</style>\n",
       "<table border=\"1\" class=\"dataframe\">\n",
       "  <thead>\n",
       "    <tr style=\"text-align: right;\">\n",
       "      <th></th>\n",
       "      <th>Customer ID</th>\n",
       "      <th>Name</th>\n",
       "      <th>Surname</th>\n",
       "      <th>Gender</th>\n",
       "      <th>Age</th>\n",
       "      <th>Region</th>\n",
       "      <th>Job Classification</th>\n",
       "      <th>Date Joined</th>\n",
       "      <th>Balance</th>\n",
       "    </tr>\n",
       "  </thead>\n",
       "  <tbody>\n",
       "    <tr>\n",
       "      <th>0</th>\n",
       "      <td>100000001</td>\n",
       "      <td>Simon</td>\n",
       "      <td>Walsh</td>\n",
       "      <td>Male</td>\n",
       "      <td>21</td>\n",
       "      <td>England</td>\n",
       "      <td>White Collar</td>\n",
       "      <td>05.Jan.15</td>\n",
       "      <td>113810.15</td>\n",
       "    </tr>\n",
       "    <tr>\n",
       "      <th>1</th>\n",
       "      <td>400000002</td>\n",
       "      <td>Jasmine</td>\n",
       "      <td>Miller</td>\n",
       "      <td>Female</td>\n",
       "      <td>34</td>\n",
       "      <td>Northern Ireland</td>\n",
       "      <td>Blue Collar</td>\n",
       "      <td>06.Jan.15</td>\n",
       "      <td>36919.73</td>\n",
       "    </tr>\n",
       "    <tr>\n",
       "      <th>2</th>\n",
       "      <td>100000003</td>\n",
       "      <td>Liam</td>\n",
       "      <td>Brown</td>\n",
       "      <td>Male</td>\n",
       "      <td>46</td>\n",
       "      <td>England</td>\n",
       "      <td>White Collar</td>\n",
       "      <td>07.Jan.15</td>\n",
       "      <td>101536.83</td>\n",
       "    </tr>\n",
       "    <tr>\n",
       "      <th>3</th>\n",
       "      <td>300000004</td>\n",
       "      <td>Trevor</td>\n",
       "      <td>Parr</td>\n",
       "      <td>Male</td>\n",
       "      <td>32</td>\n",
       "      <td>Wales</td>\n",
       "      <td>White Collar</td>\n",
       "      <td>08.Jan.15</td>\n",
       "      <td>1421.52</td>\n",
       "    </tr>\n",
       "    <tr>\n",
       "      <th>4</th>\n",
       "      <td>100000005</td>\n",
       "      <td>Deirdre</td>\n",
       "      <td>Pullman</td>\n",
       "      <td>Female</td>\n",
       "      <td>38</td>\n",
       "      <td>England</td>\n",
       "      <td>Blue Collar</td>\n",
       "      <td>09.Jan.15</td>\n",
       "      <td>35639.79</td>\n",
       "    </tr>\n",
       "  </tbody>\n",
       "</table>\n",
       "</div>"
      ],
      "text/plain": [
       "   Customer ID     Name  Surname  Gender  Age            Region  \\\n",
       "0    100000001    Simon    Walsh    Male   21           England   \n",
       "1    400000002  Jasmine   Miller  Female   34  Northern Ireland   \n",
       "2    100000003     Liam    Brown    Male   46           England   \n",
       "3    300000004   Trevor     Parr    Male   32             Wales   \n",
       "4    100000005  Deirdre  Pullman  Female   38           England   \n",
       "\n",
       "  Job Classification Date Joined    Balance  \n",
       "0       White Collar   05.Jan.15  113810.15  \n",
       "1        Blue Collar   06.Jan.15   36919.73  \n",
       "2       White Collar   07.Jan.15  101536.83  \n",
       "3       White Collar   08.Jan.15    1421.52  \n",
       "4        Blue Collar   09.Jan.15   35639.79  "
      ]
     },
     "execution_count": 3,
     "metadata": {},
     "output_type": "execute_result"
    }
   ],
   "source": [
    "df.head()"
   ]
  },
  {
   "cell_type": "code",
   "execution_count": 4,
   "id": "50248026",
   "metadata": {},
   "outputs": [],
   "source": [
    "cust_id = df.loc[df['Job Classification']==\"White Collar\",['Customer ID','Job Classification']]"
   ]
  },
  {
   "cell_type": "code",
   "execution_count": 5,
   "id": "dc00237a",
   "metadata": {},
   "outputs": [
    {
     "data": {
      "text/html": [
       "<div>\n",
       "<style scoped>\n",
       "    .dataframe tbody tr th:only-of-type {\n",
       "        vertical-align: middle;\n",
       "    }\n",
       "\n",
       "    .dataframe tbody tr th {\n",
       "        vertical-align: top;\n",
       "    }\n",
       "\n",
       "    .dataframe thead th {\n",
       "        text-align: right;\n",
       "    }\n",
       "</style>\n",
       "<table border=\"1\" class=\"dataframe\">\n",
       "  <thead>\n",
       "    <tr style=\"text-align: right;\">\n",
       "      <th></th>\n",
       "      <th>Customer ID</th>\n",
       "      <th>Job Classification</th>\n",
       "    </tr>\n",
       "  </thead>\n",
       "  <tbody>\n",
       "    <tr>\n",
       "      <th>0</th>\n",
       "      <td>100000001</td>\n",
       "      <td>White Collar</td>\n",
       "    </tr>\n",
       "    <tr>\n",
       "      <th>2</th>\n",
       "      <td>100000003</td>\n",
       "      <td>White Collar</td>\n",
       "    </tr>\n",
       "    <tr>\n",
       "      <th>3</th>\n",
       "      <td>300000004</td>\n",
       "      <td>White Collar</td>\n",
       "    </tr>\n",
       "    <tr>\n",
       "      <th>8</th>\n",
       "      <td>300000009</td>\n",
       "      <td>White Collar</td>\n",
       "    </tr>\n",
       "    <tr>\n",
       "      <th>9</th>\n",
       "      <td>100000010</td>\n",
       "      <td>White Collar</td>\n",
       "    </tr>\n",
       "    <tr>\n",
       "      <th>...</th>\n",
       "      <td>...</td>\n",
       "      <td>...</td>\n",
       "    </tr>\n",
       "    <tr>\n",
       "      <th>3999</th>\n",
       "      <td>300004000</td>\n",
       "      <td>White Collar</td>\n",
       "    </tr>\n",
       "    <tr>\n",
       "      <th>4000</th>\n",
       "      <td>300004001</td>\n",
       "      <td>White Collar</td>\n",
       "    </tr>\n",
       "    <tr>\n",
       "      <th>4001</th>\n",
       "      <td>300004002</td>\n",
       "      <td>White Collar</td>\n",
       "    </tr>\n",
       "    <tr>\n",
       "      <th>4002</th>\n",
       "      <td>100004003</td>\n",
       "      <td>White Collar</td>\n",
       "    </tr>\n",
       "    <tr>\n",
       "      <th>4004</th>\n",
       "      <td>100004005</td>\n",
       "      <td>White Collar</td>\n",
       "    </tr>\n",
       "  </tbody>\n",
       "</table>\n",
       "<p>1955 rows × 2 columns</p>\n",
       "</div>"
      ],
      "text/plain": [
       "      Customer ID Job Classification\n",
       "0       100000001       White Collar\n",
       "2       100000003       White Collar\n",
       "3       300000004       White Collar\n",
       "8       300000009       White Collar\n",
       "9       100000010       White Collar\n",
       "...           ...                ...\n",
       "3999    300004000       White Collar\n",
       "4000    300004001       White Collar\n",
       "4001    300004002       White Collar\n",
       "4002    100004003       White Collar\n",
       "4004    100004005       White Collar\n",
       "\n",
       "[1955 rows x 2 columns]"
      ]
     },
     "execution_count": 5,
     "metadata": {},
     "output_type": "execute_result"
    }
   ],
   "source": [
    "cust_id"
   ]
  },
  {
   "cell_type": "code",
   "execution_count": 6,
   "id": "f3ab25c4",
   "metadata": {},
   "outputs": [],
   "source": [
    "#Matplotlib \n",
    "import matplotlib.pyplot as plt\n",
    "import numpy as np\n",
    "import pandas as pd\n",
    "# %matplotlib"
   ]
  },
  {
   "cell_type": "code",
   "execution_count": 7,
   "id": "0f586b5f",
   "metadata": {},
   "outputs": [
    {
     "data": {
      "image/png": "[encoded data removed]",
      "text/plain": [
       "<Figure size 432x288 with 1 Axes>"
      ]
     },
     "metadata": {
      "needs_background": "light"
     },
     "output_type": "display_data"
    }
   ],
   "source": [
    "#line \n",
    "# bar\n",
    "# histogram\n",
    "# pie\n",
    "\n",
    "# line chart\n",
    "temp = [15,14,12,1,0,12.9,67.4,23.4,34.2,40.7]\n",
    "days = [1,2,3,4,5,6,7,8,9,10]\n",
    "plt.plot(days,temp)\n",
    "plt.show()"
   ]
  },
  {
   "cell_type": "code",
   "execution_count": 8,
   "id": "897d1b71",
   "metadata": {},
   "outputs": [
    {
     "data": {
      "text/plain": [
       "[<matplotlib.lines.Line2D at 0x1a89f68f610>]"
      ]
     },
     "execution_count": 8,
     "metadata": {},
     "output_type": "execute_result"
    },
    {
     "data": {
      "image/png": "[encoded data removed]",
      "text/plain": [
       "<Figure size 432x288 with 1 Axes>"
      ]
     },
     "metadata": {
      "needs_background": "light"
     },
     "output_type": "display_data"
    }
   ],
   "source": [
    "temp = [15,14,12,1,0,12.9,67.4,23.4,34.2,40.7]\n",
    "days = [1,2,3,4,5,6,7,8,9,10]\n",
    "plt.plot(days,temp)\n",
    "# plt.show()"
   ]
  },
  {
   "cell_type": "code",
   "execution_count": 18,
   "id": "6d225323",
   "metadata": {},
   "outputs": [
    {
     "data": {
      "text/plain": [
       "[<matplotlib.lines.Line2D at 0x1a8a2178610>]"
      ]
     },
     "execution_count": 18,
     "metadata": {},
     "output_type": "execute_result"
    },
    {
     "data": {
      "image/png": "[encoded data removed]",
      "text/plain": [
       "<Figure size 432x288 with 1 Axes>"
      ]
     },
     "metadata": {
      "needs_background": "light"
     },
     "output_type": "display_data"
    }
   ],
   "source": [
    "temp_delhi = [15,14,12,1,0,12.9,67.4,23.4,34.2,40.7]\n",
    "temp_mumbai = [67,34,23,56,1,0,-2,34,7,24]\n",
    "days = [1,2,3,4,5,6,7,8,9,10]\n",
    "plt.xlabel(\"Days\")\n",
    "plt.ylabel(\"Temp in Delhi & Mumbai\")\n",
    "plt.title(\"Comaprison of Delhi & Mumbai Weather\")\n",
    "# days_mumbai = [0,1,2,3,4,5,6,7,8,9]\n",
    "plt.plot(days,temp_delhi,temp_mumbai)\n",
    "plt.plot(days,temp_mumbai)\n",
    "# plt.show()"
   ]
  },
  {
   "cell_type": "code",
   "execution_count": 23,
   "id": "08509664",
   "metadata": {},
   "outputs": [
    {
     "data": {
      "text/plain": [
       "[<matplotlib.lines.Line2D at 0x1a8a2787520>]"
      ]
     },
     "execution_count": 23,
     "metadata": {},
     "output_type": "execute_result"
    },
    {
     "data": {
      "image/png": "[encoded data removed]",
      "text/plain": [
       "<Figure size 432x288 with 1 Axes>"
      ]
     },
     "metadata": {
      "needs_background": "light"
     },
     "output_type": "display_data"
    }
   ],
   "source": [
    "import numpy as np\n",
    "x= np.array([23,34,12,2])\n",
    "y = np.array([1,2,3,4])\n",
    "plt.plot(y,x)"
   ]
  },
  {
   "cell_type": "code",
   "execution_count": 28,
   "id": "b0e15727",
   "metadata": {},
   "outputs": [
    {
     "data": {
      "text/plain": [
       "<BarContainer object of 5 artists>"
      ]
     },
     "execution_count": 28,
     "metadata": {},
     "output_type": "execute_result"
    },
    {
     "data": {
      "image/png": "[encoded data removed]",
      "text/plain": [
       "<Figure size 432x288 with 1 Axes>"
      ]
     },
     "metadata": {
      "needs_background": "light"
     },
     "output_type": "display_data"
    }
   ],
   "source": [
    "#Bar Chart\n",
    "subject = ['Maths','AI','Python','English','DBMS']\n",
    "sec_A = np.array([23,45,12,19,7])\n",
    "sec_B = np.array([78,12,45,23,67])\n",
    "sec_C = np.array([12,45,89,67,34])\n",
    "plt.bar(subject,sec_A)"
   ]
  },
  {
   "cell_type": "code",
   "execution_count": 29,
   "id": "70a44029",
   "metadata": {},
   "outputs": [
    {
     "data": {
      "text/plain": [
       "<BarContainer object of 5 artists>"
      ]
     },
     "execution_count": 29,
     "metadata": {},
     "output_type": "execute_result"
    },
    {
     "data": {
      "image/png": "[encoded data removed]",
      "text/plain": [
       "<Figure size 432x288 with 1 Axes>"
      ]
     },
     "metadata": {
      "needs_background": "light"
     },
     "output_type": "display_data"
    }
   ],
   "source": [
    "plt.bar(subject,sec_B)"
   ]
  },
  {
   "cell_type": "code",
   "execution_count": 30,
   "id": "a644c2f9",
   "metadata": {},
   "outputs": [
    {
     "data": {
      "text/plain": [
       "<BarContainer object of 5 artists>"
      ]
     },
     "execution_count": 30,
     "metadata": {},
     "output_type": "execute_result"
    },
    {
     "data": {
      "image/png": "[encoded data removed]",
      "text/plain": [
       "<Figure size 432x288 with 1 Axes>"
      ]
     },
     "metadata": {
      "needs_background": "light"
     },
     "output_type": "display_data"
    }
   ],
   "source": [
    "plt.bar(subject,sec_C)"
   ]
  },
  {
   "cell_type": "code",
   "execution_count": 31,
   "id": "b0fb5331",
   "metadata": {},
   "outputs": [
    {
     "data": {
      "text/plain": [
       "<BarContainer object of 5 artists>"
      ]
     },
     "execution_count": 31,
     "metadata": {},
     "output_type": "execute_result"
    },
    {
     "data": {
      "image/png": "[encoded data removed]",
      "text/plain": [
       "<Figure size 432x288 with 1 Axes>"
      ]
     },
     "metadata": {
      "needs_background": "light"
     },
     "output_type": "display_data"
    }
   ],
   "source": [
    "plt.bar(subject,sec_A,sec_B,sec_C)"
   ]
  },
  {
   "cell_type": "code",
   "execution_count": 34,
   "id": "a516ce62",
   "metadata": {},
   "outputs": [
    {
     "data": {
      "text/plain": [
       "45"
      ]
     },
     "execution_count": 34,
     "metadata": {},
     "output_type": "execute_result"
    }
   ],
   "source": [
    "sec_A.max()"
   ]
  },
  {
   "cell_type": "code",
   "execution_count": 37,
   "id": "ede83130",
   "metadata": {},
   "outputs": [],
   "source": [
    "sum_of_section = np.sum([sec_A,sec_B,sec_C],0)"
   ]
  },
  {
   "cell_type": "code",
   "execution_count": 38,
   "id": "c8cb18df",
   "metadata": {},
   "outputs": [
    {
     "data": {
      "text/plain": [
       "array([113, 102, 146, 109, 108])"
      ]
     },
     "execution_count": 38,
     "metadata": {},
     "output_type": "execute_result"
    }
   ],
   "source": [
    "sum_of_section"
   ]
  },
  {
   "cell_type": "code",
   "execution_count": 48,
   "id": "0c33b055",
   "metadata": {},
   "outputs": [
    {
     "data": {
      "text/plain": [
       "<BarContainer object of 5 artists>"
      ]
     },
     "execution_count": 48,
     "metadata": {},
     "output_type": "execute_result"
    },
    {
     "data": {
      "image/png": "[encoded data removed]",
      "text/plain": [
       "<Figure size 432x288 with 1 Axes>"
      ]
     },
     "metadata": {
      "needs_background": "light"
     },
     "output_type": "display_data"
    }
   ],
   "source": [
    "plt.bar(subject,sum_of_section,align='edge')"
   ]
  },
  {
   "cell_type": "code",
   "execution_count": 47,
   "id": "5887e8a5",
   "metadata": {},
   "outputs": [
    {
     "data": {
      "text/plain": [
       "<BarContainer object of 5 artists>"
      ]
     },
     "execution_count": 47,
     "metadata": {},
     "output_type": "execute_result"
    },
    {
     "data": {
      "image/png": "[encoded data removed]",
      "text/plain": [
       "<Figure size 432x288 with 1 Axes>"
      ]
     },
     "metadata": {
      "needs_background": "light"
     },
     "output_type": "display_data"
    }
   ],
   "source": [
    "plt.barh(subject,sum_of_section,color='r',edgecolor='k',align='edge')"
   ]
  },
  {
   "cell_type": "code",
   "execution_count": 49,
   "id": "0090a868",
   "metadata": {},
   "outputs": [
    {
     "data": {
      "text/plain": [
       "<BarContainer object of 4 artists>"
      ]
     },
     "execution_count": 49,
     "metadata": {},
     "output_type": "execute_result"
    },
    {
     "data": {
      "image/png": "[encoded data removed]",
      "text/plain": [
       "<Figure size 432x288 with 1 Axes>"
      ]
     },
     "metadata": {
      "needs_background": "light"
     },
     "output_type": "display_data"
    }
   ],
   "source": [
    "#city,location,population\n",
    "# max. min and avg population\n",
    "cityA = [23,45,67,78]\n",
    "cityB = [90,89,67,1]\n",
    "cityC = [23,45,77,12]\n",
    "location = ['A','B','C','D']\n",
    "plt.bar(location,cityA)"
   ]
  },
  {
   "cell_type": "code",
   "execution_count": 50,
   "id": "01ecbb21",
   "metadata": {},
   "outputs": [
    {
     "data": {
      "text/plain": [
       "<BarContainer object of 4 artists>"
      ]
     },
     "execution_count": 50,
     "metadata": {},
     "output_type": "execute_result"
    },
    {
     "data": {
      "image/png": "[encoded data removed]",
      "text/plain": [
       "<Figure size 432x288 with 1 Axes>"
      ]
     },
     "metadata": {
      "needs_background": "light"
     },
     "output_type": "display_data"
    }
   ],
   "source": [
    "plt.bar(location,cityB)"
   ]
  },
  {
   "cell_type": "code",
   "execution_count": 51,
   "id": "8eda6467",
   "metadata": {},
   "outputs": [
    {
     "data": {
      "text/plain": [
       "<BarContainer object of 4 artists>"
      ]
     },
     "execution_count": 51,
     "metadata": {},
     "output_type": "execute_result"
    },
    {
     "data": {
      "image/png": "[encoded data removed]",
      "text/plain": [
       "<Figure size 432x288 with 1 Axes>"
      ]
     },
     "metadata": {
      "needs_background": "light"
     },
     "output_type": "display_data"
    }
   ],
   "source": [
    "plt.bar(location,cityC)"
   ]
  },
  {
   "cell_type": "code",
   "execution_count": 55,
   "id": "72eeb4f9",
   "metadata": {},
   "outputs": [],
   "source": [
    "max_pop = np.sum([cityA,cityB,cityC],0)"
   ]
  },
  {
   "cell_type": "code",
   "execution_count": 56,
   "id": "b8078fe1",
   "metadata": {},
   "outputs": [
    {
     "data": {
      "text/plain": [
       "array([136, 179, 211,  91])"
      ]
     },
     "execution_count": 56,
     "metadata": {},
     "output_type": "execute_result"
    }
   ],
   "source": [
    "max_pop"
   ]
  },
  {
   "cell_type": "code",
   "execution_count": 61,
   "id": "445da9a1",
   "metadata": {},
   "outputs": [
    {
     "data": {
      "text/plain": [
       "211"
      ]
     },
     "execution_count": 61,
     "metadata": {},
     "output_type": "execute_result"
    }
   ],
   "source": [
    "a = max_pop.max()\n",
    "a"
   ]
  },
  {
   "cell_type": "code",
   "execution_count": 62,
   "id": "c6574c2d",
   "metadata": {},
   "outputs": [
    {
     "data": {
      "text/plain": [
       "91"
      ]
     },
     "execution_count": 62,
     "metadata": {},
     "output_type": "execute_result"
    }
   ],
   "source": [
    "b =max_pop.min()\n",
    "b"
   ]
  },
  {
   "cell_type": "code",
   "execution_count": 63,
   "id": "de5b7a79",
   "metadata": {},
   "outputs": [
    {
     "data": {
      "text/plain": [
       "154.25"
      ]
     },
     "execution_count": 63,
     "metadata": {},
     "output_type": "execute_result"
    }
   ],
   "source": [
    "c = max_pop.mean()\n",
    "c"
   ]
  },
  {
   "cell_type": "code",
   "execution_count": 66,
   "id": "788c433d",
   "metadata": {},
   "outputs": [
    {
     "data": {
      "text/plain": [
       "<BarContainer object of 1 artists>"
      ]
     },
     "execution_count": 66,
     "metadata": {},
     "output_type": "execute_result"
    },
    {
     "data": {
      "image/png": "[encoded data removed]",
      "text/plain": [
       "<Figure size 432x288 with 1 Axes>"
      ]
     },
     "metadata": {
      "needs_background": "light"
     },
     "output_type": "display_data"
    }
   ],
   "source": [
    "plt.bar(a,b,c)"
   ]
  },
  {
   "cell_type": "code",
   "execution_count": 67,
   "id": "301102c7",
   "metadata": {},
   "outputs": [
    {
     "data": {
      "text/plain": [
       "<BarContainer object of 4 artists>"
      ]
     },
     "execution_count": 67,
     "metadata": {},
     "output_type": "execute_result"
    },
    {
     "data": {
      "image/png": "[encoded data removed]",
      "text/plain": [
       "<Figure size 432x288 with 1 Axes>"
      ]
     },
     "metadata": {
      "needs_background": "light"
     },
     "output_type": "display_data"
    }
   ],
   "source": [
    "plt.bar(location,a)"
   ]
  },
  {
   "cell_type": "code",
   "execution_count": null,
   "id": "9cd1160c",
   "metadata": {},
   "outputs": [],
   "source": []
  }
 ],
 "metadata": {
  "kernelspec": {
   "display_name": "Python 3 (ipykernel)",
   "language": "python",
   "name": "python3"
  },
  "language_info": {
   "codemirror_mode": {
    "name": "ipython",
    "version": 3
   },
   "file_extension": ".py",
   "mimetype": "text/x-python",
   "name": "python",
   "nbconvert_exporter": "python",
   "pygments_lexer": "ipython3",
   "version": "3.9.7"
  }
 },
 "nbformat": 4,
 "nbformat_minor": 5
}
